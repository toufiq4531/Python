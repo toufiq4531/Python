{
 "cells": [
  {
   "cell_type": "code",
   "execution_count": 1,
   "metadata": {
    "colab": {
     "base_uri": "https://localhost:8080/"
    },
    "executionInfo": {
     "elapsed": 1227,
     "status": "ok",
     "timestamp": 1730081959780,
     "user": {
      "displayName": "work mail",
      "userId": "12687429901176524507"
     },
     "user_tz": -360
    },
    "id": "hw-z9p8X6KxO",
    "outputId": "deacd5d8-e61a-4a1e-e3e1-2a4a6d0500de"
   },
   "outputs": [
    {
     "name": "stdout",
     "output_type": "stream",
     "text": [
      "Welcome to ululu Lab\n"
     ]
    }
   ],
   "source": [
    "print(\"Welcome to ululu Lab\")"
   ]
  },
  {
   "cell_type": "code",
   "execution_count": 3,
   "metadata": {
    "colab": {
     "base_uri": "https://localhost:8080/"
    },
    "executionInfo": {
     "elapsed": 488,
     "status": "ok",
     "timestamp": 1730082366312,
     "user": {
      "displayName": "work mail",
      "userId": "12687429901176524507"
     },
     "user_tz": -360
    },
    "id": "iFGFutEs61x1",
    "outputId": "dc7da3a2-d79e-4beb-f3c6-8013af18d74b"
   },
   "outputs": [
    {
     "name": "stdout",
     "output_type": "stream",
     "text": [
      "you are a voter\n"
     ]
    }
   ],
   "source": [
    "age=18\n",
    "if age>=18:\n",
    "    print(\"you are a voter\")\n",
    "else:\n",
    "    print(\"you are not a voter\")"
   ]
  },
  {
   "cell_type": "code",
   "execution_count": 7,
   "metadata": {
    "colab": {
     "base_uri": "https://localhost:8080/"
    },
    "executionInfo": {
     "elapsed": 3377,
     "status": "ok",
     "timestamp": 1730082718930,
     "user": {
      "displayName": "work mail",
      "userId": "12687429901176524507"
     },
     "user_tz": -360
    },
    "id": "2ahTlKtF8by8",
    "outputId": "dd6839d7-5859-4f05-e7f9-bdd7684b299f"
   },
   "outputs": [
    {
     "name": "stdout",
     "output_type": "stream",
     "text": [
      "enter your marks: 10\n",
      "you failed\n"
     ]
    }
   ],
   "source": [
    "marks=int(input(\"enter your marks: \"))\n",
    "if marks>=90 and marks<=100:\n",
    "    print(\"you got A+\")\n",
    "elif marks>=85 and marks<90:\n",
    "    print(\"you got A\")\n",
    "else:\n",
    "    print(\"you failed\")"
   ]
  },
  {
   "cell_type": "code",
   "execution_count": 8,
   "metadata": {
    "colab": {
     "base_uri": "https://localhost:8080/"
    },
    "executionInfo": {
     "elapsed": 6538,
     "status": "ok",
     "timestamp": 1730082999435,
     "user": {
      "displayName": "work mail",
      "userId": "12687429901176524507"
     },
     "user_tz": -360
    },
    "id": "q78vzqYF9jAy",
    "outputId": "8a02c5f6-9e65-4728-9f85-efd8467c3067"
   },
   "outputs": [
    {
     "name": "stdout",
     "output_type": "stream",
     "text": [
      "Please Enter a number: 20\n",
      "Please Enter a number: 23\n",
      "2023\n"
     ]
    }
   ],
   "source": [
    "a = input(\"Please Enter a number: \")\n",
    "b = input(\"Please Enter a number: \")\n",
    "result=a+b\n",
    "print(result)"
   ]
  },
  {
   "cell_type": "code",
   "execution_count": 13,
   "metadata": {
    "colab": {
     "base_uri": "https://localhost:8080/"
    },
    "executionInfo": {
     "elapsed": 486,
     "status": "ok",
     "timestamp": 1730083268858,
     "user": {
      "displayName": "work mail",
      "userId": "12687429901176524507"
     },
     "user_tz": -360
    },
    "id": "LX06kZrr-3BY",
    "outputId": "eaff1646-50cf-4b2b-cdf8-4cfcd20475fa"
   },
   "outputs": [
    {
     "name": "stdout",
     "output_type": "stream",
     "text": [
      "53\n"
     ]
    }
   ],
   "source": [
    "a=int(a)\n",
    "b=int(b)\n",
    "result=a+b\n",
    "print(result)"
   ]
  },
  {
   "cell_type": "code",
   "execution_count": 14,
   "metadata": {
    "colab": {
     "base_uri": "https://localhost:8080/"
    },
    "executionInfo": {
     "elapsed": 463,
     "status": "ok",
     "timestamp": 1730083322153,
     "user": {
      "displayName": "work mail",
      "userId": "12687429901176524507"
     },
     "user_tz": -360
    },
    "id": "XqeUbUnG_CQF",
    "outputId": "cc370075-78cc-4c85-a728-f8675d7d1be3"
   },
   "outputs": [
    {
     "name": "stdout",
     "output_type": "stream",
     "text": [
      "0 1 2 3 4 5 6 7 8 9 "
     ]
    }
   ],
   "source": [
    "for i in range(10):\n",
    "    print(i, end=\" \")"
   ]
  },
  {
   "cell_type": "code",
   "execution_count": 16,
   "metadata": {
    "colab": {
     "base_uri": "https://localhost:8080/"
    },
    "executionInfo": {
     "elapsed": 604,
     "status": "ok",
     "timestamp": 1730083370566,
     "user": {
      "displayName": "work mail",
      "userId": "12687429901176524507"
     },
     "user_tz": -360
    },
    "id": "0TvwFq0qAHSd",
    "outputId": "f078902d-e53e-4a29-c499-906a8f0a3506"
   },
   "outputs": [
    {
     "name": "stdout",
     "output_type": "stream",
     "text": [
      "15 16 17 18 19 "
     ]
    }
   ],
   "source": [
    "for i in range(15, 20):\n",
    "    print(i, end=\" \")"
   ]
  },
  {
   "cell_type": "code",
   "execution_count": 17,
   "metadata": {
    "colab": {
     "base_uri": "https://localhost:8080/"
    },
    "executionInfo": {
     "elapsed": 549,
     "status": "ok",
     "timestamp": 1730083398563,
     "user": {
      "displayName": "work mail",
      "userId": "12687429901176524507"
     },
     "user_tz": -360
    },
    "id": "ue1s4yWCARA7",
    "outputId": "cd62a7ac-66e8-4375-cd86-09a7b73c71c2"
   },
   "outputs": [
    {
     "name": "stdout",
     "output_type": "stream",
     "text": [
      "10 12 14 16 18 "
     ]
    }
   ],
   "source": [
    "for i in range(10, 20, 2):\n",
    "    print(i, end=\" \")"
   ]
  },
  {
   "cell_type": "code",
   "execution_count": 19,
   "metadata": {
    "colab": {
     "base_uri": "https://localhost:8080/"
    },
    "executionInfo": {
     "elapsed": 472,
     "status": "ok",
     "timestamp": 1730083712114,
     "user": {
      "displayName": "work mail",
      "userId": "12687429901176524507"
     },
     "user_tz": -360
    },
    "id": "yi7q1C9lAZ7d",
    "outputId": "05c88d8e-25ca-4e9a-b454-203bf14e3732"
   },
   "outputs": [
    {
     "name": "stdout",
     "output_type": "stream",
     "text": [
      "1 3 5 7 9 "
     ]
    }
   ],
   "source": [
    "for i in range(1, 11):\n",
    "    if i%2==0:\n",
    "      continue\n",
    "    print(i, end=\" \")"
   ]
  },
  {
   "cell_type": "code",
   "execution_count": 21,
   "metadata": {
    "colab": {
     "base_uri": "https://localhost:8080/"
    },
    "executionInfo": {
     "elapsed": 638,
     "status": "ok",
     "timestamp": 1730083750770,
     "user": {
      "displayName": "work mail",
      "userId": "12687429901176524507"
     },
     "user_tz": -360
    },
    "id": "t7eGFmVfBgcm",
    "outputId": "96d37d0e-1af1-47e8-9c83-3e066cfe9693"
   },
   "outputs": [
    {
     "name": "stdout",
     "output_type": "stream",
     "text": [
      "1 2 3 4 5\n"
     ]
    }
   ],
   "source": [
    "for i in range(1, 11):\n",
    "    if i>=5:\n",
    "        print(i)\n",
    "        break\n",
    "    print(i, end=\" \")"
   ]
  },
  {
   "cell_type": "code",
   "execution_count": 26,
   "metadata": {
    "colab": {
     "base_uri": "https://localhost:8080/"
    },
    "executionInfo": {
     "elapsed": 642,
     "status": "ok",
     "timestamp": 1730083947791,
     "user": {
      "displayName": "work mail",
      "userId": "12687429901176524507"
     },
     "user_tz": -360
    },
    "id": "ofw3mnVRBp7m",
    "outputId": "f75fca1e-22e8-44d6-dc5a-230bfcd83625"
   },
   "outputs": [
    {
     "name": "stdout",
     "output_type": "stream",
     "text": [
      "0 1 2 3 4 5 6 7 8 9 "
     ]
    }
   ],
   "source": [
    "i=0\n",
    "while i<10:\n",
    "    print(i, end=\" \")\n",
    "    i+=1"
   ]
  },
  {
   "cell_type": "code",
   "execution_count": 27,
   "metadata": {
    "colab": {
     "base_uri": "https://localhost:8080/"
    },
    "executionInfo": {
     "elapsed": 460,
     "status": "ok",
     "timestamp": 1730083980659,
     "user": {
      "displayName": "work mail",
      "userId": "12687429901176524507"
     },
     "user_tz": -360
    },
    "id": "ZOe-EzJMCNRZ",
    "outputId": "0dd9b4be-11e0-4c58-f7fa-e3acc00367db"
   },
   "outputs": [
    {
     "name": "stdout",
     "output_type": "stream",
     "text": [
      "[10, 20, 30, 40, 50, 60]\n"
     ]
    }
   ],
   "source": [
    "#ADT\n",
    "list=[10,20,30,40,50]\n",
    "list.append(60)\n",
    "print(list)"
   ]
  },
  {
   "cell_type": "code",
   "execution_count": 29,
   "metadata": {
    "colab": {
     "base_uri": "https://localhost:8080/"
    },
    "executionInfo": {
     "elapsed": 8,
     "status": "ok",
     "timestamp": 1730084062258,
     "user": {
      "displayName": "work mail",
      "userId": "12687429901176524507"
     },
     "user_tz": -360
    },
    "id": "nsCSjRMnCoC_",
    "outputId": "559d44ff-84d6-4c90-a6d5-16d0e01eb244"
   },
   "outputs": [
    {
     "name": "stdout",
     "output_type": "stream",
     "text": [
      "3\n"
     ]
    }
   ],
   "source": [
    "list1=[1,2,3,4,5,6,4,5,3,2,1,2,3,4,5,6]\n",
    "f=list1.count(2)\n",
    "print(f)"
   ]
  },
  {
   "cell_type": "code",
   "execution_count": 30,
   "metadata": {
    "colab": {
     "base_uri": "https://localhost:8080/"
    },
    "executionInfo": {
     "elapsed": 445,
     "status": "ok",
     "timestamp": 1730084092313,
     "user": {
      "displayName": "work mail",
      "userId": "12687429901176524507"
     },
     "user_tz": -360
    },
    "id": "SLiYmfjEC5u-",
    "outputId": "f575bfb4-d5d6-446e-edcc-068172dc591c"
   },
   "outputs": [
    {
     "name": "stdout",
     "output_type": "stream",
     "text": [
      "[6, 5, 4, 3, 2, 1, 2, 3, 5, 4, 6, 5, 4, 3, 2, 1]\n"
     ]
    }
   ],
   "source": [
    "list1.reverse()\n",
    "print(list1)"
   ]
  },
  {
   "cell_type": "code",
   "execution_count": 31,
   "metadata": {
    "colab": {
     "base_uri": "https://localhost:8080/"
    },
    "executionInfo": {
     "elapsed": 472,
     "status": "ok",
     "timestamp": 1730084111080,
     "user": {
      "displayName": "work mail",
      "userId": "12687429901176524507"
     },
     "user_tz": -360
    },
    "id": "NQIxfgTHDDUr",
    "outputId": "1edc638d-8a28-45a3-93e1-c9396b7ee25a"
   },
   "outputs": [
    {
     "name": "stdout",
     "output_type": "stream",
     "text": [
      "[1, 1, 2, 2, 2, 3, 3, 3, 4, 4, 4, 5, 5, 5, 6, 6]\n"
     ]
    }
   ],
   "source": [
    "list1.sort()\n",
    "print(list1)"
   ]
  },
  {
   "cell_type": "code",
   "execution_count": 33,
   "metadata": {
    "colab": {
     "base_uri": "https://localhost:8080/"
    },
    "executionInfo": {
     "elapsed": 471,
     "status": "ok",
     "timestamp": 1730084246232,
     "user": {
      "displayName": "work mail",
      "userId": "12687429901176524507"
     },
     "user_tz": -360
    },
    "id": "SxsTbaAxDH25",
    "outputId": "7b369064-e0b2-46f0-a935-43082f1e2b09"
   },
   "outputs": [
    {
     "name": "stdout",
     "output_type": "stream",
     "text": [
      "16\n"
     ]
    }
   ],
   "source": [
    "list1=[1,2,3,4,5,6,4,5,3,2,1,2,3,4,5,6]\n",
    "print(len(list1))"
   ]
  },
  {
   "cell_type": "code",
   "execution_count": 34,
   "metadata": {
    "colab": {
     "base_uri": "https://localhost:8080/"
    },
    "executionInfo": {
     "elapsed": 445,
     "status": "ok",
     "timestamp": 1730084250715,
     "user": {
      "displayName": "work mail",
      "userId": "12687429901176524507"
     },
     "user_tz": -360
    },
    "id": "jsyYuPsrDmue",
    "outputId": "b0db4c6d-14eb-4049-929e-bffcfae1b9f4"
   },
   "outputs": [
    {
     "name": "stdout",
     "output_type": "stream",
     "text": [
      "1 2 3 4 5 6 4 5 3 2 1 2 3 4 5 6 "
     ]
    }
   ],
   "source": [
    "for i in range(len(list1)):\n",
    "    print(list1[i], end=\" \")"
   ]
  },
  {
   "cell_type": "code",
   "execution_count": 35,
   "metadata": {
    "colab": {
     "base_uri": "https://localhost:8080/"
    },
    "executionInfo": {
     "elapsed": 474,
     "status": "ok",
     "timestamp": 1730084397555,
     "user": {
      "displayName": "work mail",
      "userId": "12687429901176524507"
     },
     "user_tz": -360
    },
    "id": "9yP4joPMDp-9",
    "outputId": "969ef83f-0bcc-48ce-a84f-054bea07d96d"
   },
   "outputs": [
    {
     "name": "stdout",
     "output_type": "stream",
     "text": [
      "[7, 2, 8, 4, 2, 9, 7]\n"
     ]
    }
   ],
   "source": [
    "list1=[3,6,7,2,8,4,2,9,7]\n",
    "print(list1[2:])      #include 2nd index then print"
   ]
  },
  {
   "cell_type": "code",
   "execution_count": 37,
   "metadata": {
    "colab": {
     "base_uri": "https://localhost:8080/"
    },
    "executionInfo": {
     "elapsed": 491,
     "status": "ok",
     "timestamp": 1730084520238,
     "user": {
      "displayName": "work mail",
      "userId": "12687429901176524507"
     },
     "user_tz": -360
    },
    "id": "GwJi46WIEN0j",
    "outputId": "3e36b9e1-1d5f-4f3b-a340-01af8e7f24ce"
   },
   "outputs": [
    {
     "name": "stdout",
     "output_type": "stream",
     "text": [
      "[7, 2, 8, 4]\n"
     ]
    }
   ],
   "source": [
    "list1=[3,6,7,2,8,4,2,9,7]\n",
    "print(list1[2:6])      #include 2nd and exclude 6th index then print"
   ]
  },
  {
   "cell_type": "code",
   "execution_count": 38,
   "metadata": {
    "colab": {
     "base_uri": "https://localhost:8080/"
    },
    "executionInfo": {
     "elapsed": 615,
     "status": "ok",
     "timestamp": 1730084558263,
     "user": {
      "displayName": "work mail",
      "userId": "12687429901176524507"
     },
     "user_tz": -360
    },
    "id": "TZuqcdz2EcIc",
    "outputId": "1618fb8c-ca5b-44c7-fdc2-6c1caede32ff"
   },
   "outputs": [
    {
     "name": "stdout",
     "output_type": "stream",
     "text": [
      "[3, 6, 7, 2]\n"
     ]
    }
   ],
   "source": [
    "list1=[3,6,7,2,8,4,2,9,7]\n",
    "print(list1[:4])      #exclude 4th index then print"
   ]
  },
  {
   "cell_type": "code",
   "execution_count": 39,
   "metadata": {
    "colab": {
     "base_uri": "https://localhost:8080/"
    },
    "executionInfo": {
     "elapsed": 475,
     "status": "ok",
     "timestamp": 1730084712141,
     "user": {
      "displayName": "work mail",
      "userId": "12687429901176524507"
     },
     "user_tz": -360
    },
    "id": "SDP88LubE1Cj",
    "outputId": "6fab85bf-56df-468e-be59-1fb960a0b73e"
   },
   "outputs": [
    {
     "name": "stdout",
     "output_type": "stream",
     "text": [
      "(1, 2, 3, 4, 5)\n"
     ]
    }
   ],
   "source": [
    "#touple\n",
    "tuple1=(1,2,3,4,5)\n",
    "print(tuple1)"
   ]
  },
  {
   "cell_type": "code",
   "execution_count": 40,
   "metadata": {
    "colab": {
     "base_uri": "https://localhost:8080/"
    },
    "executionInfo": {
     "elapsed": 484,
     "status": "ok",
     "timestamp": 1730084731424,
     "user": {
      "displayName": "work mail",
      "userId": "12687429901176524507"
     },
     "user_tz": -360
    },
    "id": "AwmUX6qfFanr",
    "outputId": "5e9d00c4-3f9f-4761-9448-715fdd114719"
   },
   "outputs": [
    {
     "name": "stdout",
     "output_type": "stream",
     "text": [
      "1 2 3 4 5 "
     ]
    }
   ],
   "source": [
    "tuple1=(1,2,3,4,5)\n",
    "for i in range(len(tuple1)):\n",
    "    print(tuple1[i], end=\" \")"
   ]
  },
  {
   "cell_type": "code",
   "execution_count": 42,
   "metadata": {
    "colab": {
     "base_uri": "https://localhost:8080/"
    },
    "executionInfo": {
     "elapsed": 474,
     "status": "ok",
     "timestamp": 1730085024010,
     "user": {
      "displayName": "work mail",
      "userId": "12687429901176524507"
     },
     "user_tz": -360
    },
    "id": "hLiwQf4nFfWB",
    "outputId": "dfb981fa-3ad0-4886-e275-d623a232087c"
   },
   "outputs": [
    {
     "name": "stdout",
     "output_type": "stream",
     "text": [
      "2\n",
      "5\n"
     ]
    }
   ],
   "source": [
    "m=[[10,20,30,40,50],[15,25,35,45,55]]\n",
    "\n",
    "print(len(m))      #prints row\n",
    "print(len(m[0]))    #prints column"
   ]
  },
  {
   "cell_type": "code",
   "execution_count": 45,
   "metadata": {
    "colab": {
     "base_uri": "https://localhost:8080/"
    },
    "executionInfo": {
     "elapsed": 494,
     "status": "ok",
     "timestamp": 1730085069168,
     "user": {
      "displayName": "work mail",
      "userId": "12687429901176524507"
     },
     "user_tz": -360
    },
    "id": "53rEdr77Gcwa",
    "outputId": "e12e7029-f0d5-4ab9-9e78-148f32a7cbaf"
   },
   "outputs": [
    {
     "name": "stdout",
     "output_type": "stream",
     "text": [
      "10 20 30 40 50 \n",
      "15 25 35 45 55 \n"
     ]
    }
   ],
   "source": [
    "for i in range(len(m)):\n",
    "    for j in range(len(m[0])):\n",
    "        print(m[i][j], end=\" \")\n",
    "    print()"
   ]
  },
  {
   "cell_type": "code",
   "execution_count": 54,
   "metadata": {
    "colab": {
     "base_uri": "https://localhost:8080/"
    },
    "executionInfo": {
     "elapsed": 494,
     "status": "ok",
     "timestamp": 1730085787520,
     "user": {
      "displayName": "work mail",
      "userId": "12687429901176524507"
     },
     "user_tz": -360
    },
    "id": "E0e1buXNGrS8",
    "outputId": "38fac633-30b0-47c5-a08e-d6b9a01a2921"
   },
   "outputs": [
    {
     "name": "stdout",
     "output_type": "stream",
     "text": [
      "[0, 0, 0, 0, 0]\n",
      "[0, 0, 0, 0, 0]\n",
      "[0, 0, 0, 0, 0]\n",
      "[0, 0, 0, 0, 0]\n"
     ]
    }
   ],
   "source": [
    "row=4\n",
    "col=5\n",
    "m=[]\n",
    "\n",
    "for i in range(row):\n",
    "  c=[]\n",
    "  for j in range(col):\n",
    "    c.append(0)\n",
    "  m.append(c)\n",
    "\n",
    "for i in m:\n",
    "  print(i)"
   ]
  },
  {
   "cell_type": "code",
   "execution_count": 55,
   "metadata": {
    "colab": {
     "base_uri": "https://localhost:8080/"
    },
    "executionInfo": {
     "elapsed": 437,
     "status": "ok",
     "timestamp": 1730085818710,
     "user": {
      "displayName": "work mail",
      "userId": "12687429901176524507"
     },
     "user_tz": -360
    },
    "id": "kYAzRhVkH_yA",
    "outputId": "408afd82-c509-4145-ef80-7c7e74a58ebf"
   },
   "outputs": [
    {
     "name": "stdout",
     "output_type": "stream",
     "text": [
      "[1, 0, 0, 0, 0]\n",
      "[0, 1, 0, 0, 0]\n",
      "[0, 0, 1, 0, 0]\n",
      "[0, 0, 0, 1, 0]\n"
     ]
    }
   ],
   "source": [
    "row=4\n",
    "col=5\n",
    "m=[]\n",
    "\n",
    "for i in range(row):\n",
    "  c=[]\n",
    "  for j in range(col):\n",
    "    if i==j:\n",
    "      c.append(1)\n",
    "    else:\n",
    "      c.append(0)\n",
    "  m.append(c)\n",
    "\n",
    "for i in m:\n",
    "  print(i)"
   ]
  },
  {
   "cell_type": "code",
   "execution_count": null,
   "metadata": {
    "id": "k5IDD2bYJozb"
   },
   "outputs": [],
   "source": []
  }
 ],
 "metadata": {
  "colab": {
   "authorship_tag": "ABX9TyPuBQZXwesDYERS/mLPoKU+",
   "provenance": []
  },
  "kernelspec": {
   "display_name": "Python 3 (ipykernel)",
   "language": "python",
   "name": "python3"
  },
  "language_info": {
   "codemirror_mode": {
    "name": "ipython",
    "version": 3
   },
   "file_extension": ".py",
   "mimetype": "text/x-python",
   "name": "python",
   "nbconvert_exporter": "python",
   "pygments_lexer": "ipython3",
   "version": "3.12.7"
  }
 },
 "nbformat": 4,
 "nbformat_minor": 4
}
