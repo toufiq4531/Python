{
 "cells": [
  {
   "cell_type": "code",
   "execution_count": 29,
   "id": "0d1168f6-6533-4eba-b912-a8a1da0afe86",
   "metadata": {},
   "outputs": [
    {
     "name": "stdout",
     "output_type": "stream",
     "text": [
      "[0, 0, 0, 0, 0, 0, 0, 0, 0, 0]\n",
      "[0, 0, 0, 0, 0, 0, 0, 0, 0, 0]\n",
      "[0, 0, 0, 0, 0, 0, 0, 0, 0, 0]\n",
      "[0, 0, 0, 0, 0, 0, 0, 0, 0, 0]\n",
      "[0, 0, 0, 0, 0, 0, 0, 0, 0, 0]\n",
      "[0, 0, 0, 0, 0, 0, 0, 0, 0, 0]\n",
      "[0, 0, 0, 0, 0, 0, 0, 0, 0, 0]\n",
      "[0, 0, 0, 0, 0, 0, 0, 0, 0, 0]\n",
      "[0, 0, 0, 0, 0, 0, 0, 0, 0, 0]\n",
      "[0, 0, 0, 0, 0, 0, 0, 0, 0, 0]\n"
     ]
    }
   ],
   "source": [
    "def createMatrix(n):\n",
    "    row = []\n",
    "    for i in range(n):\n",
    "        col = []\n",
    "        for j in range(n):\n",
    "            col.append(0)\n",
    "        row.append(col)\n",
    "    return row\n",
    "\n",
    "def printMatrix(mat):\n",
    "    for i in range(len(mat)):\n",
    "        print(mat[i])\n",
    "\n",
    "mat = createMatrix(10)\n",
    "printMatrix(mat)"
   ]
  },
  {
   "cell_type": "code",
   "execution_count": 31,
   "id": "26e8406f-192d-4aa8-87e5-035f60e25aeb",
   "metadata": {},
   "outputs": [
    {
     "name": "stdout",
     "output_type": "stream",
     "text": [
      "6 9\n",
      "0 1\n",
      "0 2\n",
      "1 2\n",
      "1 3\n",
      "2 3\n",
      "3 4\n",
      "4 0\n",
      "4 1\n",
      "4 5\n"
     ]
    }
   ],
   "source": [
    "random = open(\"graph.txt\")\n",
    "print(random.read())"
   ]
  },
  {
   "cell_type": "code",
   "execution_count": 56,
   "id": "24b29583-91bc-4128-8b7d-6d15c9f49689",
   "metadata": {},
   "outputs": [
    {
     "name": "stdout",
     "output_type": "stream",
     "text": [
      "6 9\n",
      "\n",
      "0 1\n",
      "\n",
      "['6', '9']\n"
     ]
    }
   ],
   "source": [
    "random = open(\"graph.txt\")\n",
    "line1 = random.readline()\n",
    "line2 = random.readline()\n",
    "\n",
    "print(line1)\n",
    "print(line2)\n",
    "\n",
    "lul = line1.split()\n",
    "print(lul)"
   ]
  },
  {
   "cell_type": "code",
   "execution_count": 68,
   "id": "ce762d8d-8329-4235-bb8a-364165ba5c6b",
   "metadata": {},
   "outputs": [
    {
     "name": "stdout",
     "output_type": "stream",
     "text": [
      "[0, 0, 0, 0, 0, 0]\n",
      "[0, 0, 0, 0, 0, 0]\n",
      "[0, 0, 0, 0, 0, 0]\n",
      "[0, 0, 0, 0, 0, 0]\n",
      "[0, 0, 0, 0, 0, 0]\n",
      "[0, 0, 0, 0, 0, 0]\n"
     ]
    }
   ],
   "source": [
    "def createMat(n):\n",
    "    row = []\n",
    "    for i in range(n):\n",
    "        col = []\n",
    "        for j in range(n):\n",
    "            col.append(0)\n",
    "        row.append(col)\n",
    "    return row\n",
    "\n",
    "def printMatrix(mat):\n",
    "    for i in range(len(mat)):\n",
    "        print(mat[i])\n",
    "\n",
    "text = open(\"graph.txt\")\n",
    "\n",
    "line1 = text.readline()\n",
    "li = line1.split()\n",
    "\n",
    "n = int(li[0])\n",
    "m = int(li[1])\n",
    "\n",
    "New_mat = createMat(n)\n",
    "printMatrix(New_mat)"
   ]
  },
  {
   "cell_type": "code",
   "execution_count": 98,
   "id": "5e0304a5-668c-4cb4-82ef-fc808d58b0e8",
   "metadata": {},
   "outputs": [
    {
     "name": "stdout",
     "output_type": "stream",
     "text": [
      "[0, 0, 0, 0, 0, 0]\n",
      "[0, 0, 0, 0, 0, 0]\n",
      "[0, 0, 0, 0, 0, 0]\n",
      "[0, 0, 0, 0, 0, 0]\n",
      "[0, 0, 0, 0, 0, 0]\n",
      "[0, 0, 0, 0, 0, 0]\n",
      "\n",
      "[0, 1, 1, 0, 1, 0]\n",
      "[1, 0, 1, 1, 1, 0]\n",
      "[1, 1, 0, 1, 0, 0]\n",
      "[0, 1, 1, 0, 1, 0]\n",
      "[1, 1, 0, 1, 0, 1]\n",
      "[0, 0, 0, 0, 1, 0]\n"
     ]
    }
   ],
   "source": [
    "def createMat(n):\n",
    "    row = []\n",
    "    for i in range(n):\n",
    "        col = []\n",
    "        for j in range(n):\n",
    "            col.append(0)\n",
    "        row.append(col)\n",
    "    return row\n",
    "\n",
    "def printMatrix(mat):\n",
    "    for i in range(len(mat)):\n",
    "        print(mat[i])\n",
    "\n",
    "text = open(\"graph.txt\")\n",
    "\n",
    "line1 = text.readline()\n",
    "li = line1.split()\n",
    "\n",
    "ver = int(li[0])\n",
    "edg = int(li[1])\n",
    "\n",
    "New_mat = createMat(ver)\n",
    "printMatrix(New_mat)\n",
    "\n",
    "print(\"\")\n",
    "\n",
    "for i in range(edg):\n",
    "    line = text.readline()\n",
    "    u = int(line.split()[0])\n",
    "    v = int(line.split()[1])\n",
    "    New_mat[u][v] = 1\n",
    "    New_mat[v][u] = 1       #row column same because of directed graph\n",
    "\n",
    "printMatrix(New_mat)"
   ]
  },
  {
   "cell_type": "code",
   "execution_count": 100,
   "id": "9aa4a335-58ed-43e6-942b-decade805dd6",
   "metadata": {},
   "outputs": [
    {
     "name": "stdout",
     "output_type": "stream",
     "text": [
      "[0, 0, 0, 0, 0, 0]\n",
      "[0, 0, 0, 0, 0, 0]\n",
      "[0, 0, 0, 0, 0, 0]\n",
      "[0, 0, 0, 0, 0, 0]\n",
      "[0, 0, 0, 0, 0, 0]\n",
      "[0, 0, 0, 0, 0, 0]\n",
      "\n",
      "[0, 4, 3, 0, 0, 0]\n",
      "[0, 0, 5, 2, 0, 0]\n",
      "[0, 0, 0, 7, 0, 0]\n",
      "[0, 0, 0, 0, 2, 0]\n",
      "[4, 4, 0, 0, 0, 6]\n",
      "[0, 0, 0, 0, 0, 0]\n"
     ]
    }
   ],
   "source": [
    "def createMat(n):\n",
    "    row = []\n",
    "    for i in range(n):\n",
    "        col = []\n",
    "        for j in range(n):\n",
    "            col.append(0)\n",
    "        row.append(col)\n",
    "    return row\n",
    "\n",
    "def printMatrix(mat):\n",
    "    for i in range(len(mat)):\n",
    "        print(mat[i])\n",
    "\n",
    "text = open(\"graph2.txt\")\n",
    "\n",
    "line1 = text.readline()\n",
    "li = line1.split()\n",
    "\n",
    "ver = int(li[0])\n",
    "edg = int(li[1])\n",
    "\n",
    "new_Mat = createMat(ver)\n",
    "printMatrix(new_Mat)\n",
    "\n",
    "print(\"\")\n",
    "\n",
    "for i in range(edg):\n",
    "    line = text.readline()\n",
    "    u = int(line.split()[0])\n",
    "    v = int(line.split()[1])\n",
    "    w = int(line.split()[2])\n",
    "    new_Mat[u][v] = w           #for weighted graph\n",
    "    # new_Mat[v][u] = 1         #row column same because of directed graph\n",
    "\n",
    "printMatrix(new_Mat)"
   ]
  },
  {
   "cell_type": "code",
   "execution_count": null,
   "id": "ea9db34b-f1d3-4600-a822-2b456fe9c083",
   "metadata": {},
   "outputs": [],
   "source": []
  }
 ],
 "metadata": {
  "kernelspec": {
   "display_name": "Python 3 (ipykernel)",
   "language": "python",
   "name": "python3"
  },
  "language_info": {
   "codemirror_mode": {
    "name": "ipython",
    "version": 3
   },
   "file_extension": ".py",
   "mimetype": "text/x-python",
   "name": "python",
   "nbconvert_exporter": "python",
   "pygments_lexer": "ipython3",
   "version": "3.12.7"
  }
 },
 "nbformat": 4,
 "nbformat_minor": 5
}
