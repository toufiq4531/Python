{
 "cells": [
  {
   "cell_type": "code",
   "execution_count": 2,
   "id": "5f2b6732-01e3-4195-91d3-313c2a632c2b",
   "metadata": {},
   "outputs": [
    {
     "name": "stdout",
     "output_type": "stream",
     "text": [
      "[0, 0, 0, 0, 0, 0, 0, 0, 0, 0]\n",
      "[0, 0, 0, 0, 0, 0, 0, 0, 0, 0]\n",
      "[0, 0, 0, 0, 0, 0, 0, 0, 0, 0]\n",
      "[0, 0, 0, 0, 0, 0, 0, 0, 0, 0]\n",
      "[0, 0, 0, 0, 0, 0, 0, 0, 0, 0]\n",
      "[0, 0, 0, 0, 0, 0, 0, 0, 0, 0]\n",
      "[0, 0, 0, 0, 0, 0, 0, 0, 0, 0]\n",
      "[0, 0, 0, 0, 0, 0, 0, 0, 0, 0]\n",
      "[0, 0, 0, 0, 0, 0, 0, 0, 0, 0]\n",
      "[0, 0, 0, 0, 0, 0, 0, 0, 0, 0]\n"
     ]
    }
   ],
   "source": [
    "def createMatrix(n):\n",
    "    m=[]\n",
    "    for i in range (n):\n",
    "        c=[]\n",
    "        for j in range(n):\n",
    "            c.append(0)\n",
    "        m.append(c)\n",
    "    return m\n",
    "\n",
    "def printMatrix(m):\n",
    "    for i in range(len(m)):\n",
    "        print(m[i])\n",
    "\n",
    "adj_matrix= createMatrix(10)\n",
    "printMatrix(adj_matrix)"
   ]
  },
  {
   "cell_type": "code",
   "execution_count": 21,
   "id": "6cb81aac-b14f-4a09-9a80-5b10eb9e5095",
   "metadata": {},
   "outputs": [
    {
     "name": "stdout",
     "output_type": "stream",
     "text": [
      "6 9\n",
      "0 1\n",
      "0 2\n",
      "1 2\n",
      "1 3\n",
      "2 3\n",
      "3 4\n",
      "4 0\n",
      "4 1\n",
      "4 5\n"
     ]
    }
   ],
   "source": [
    "f = open(\"graph.txt\",\"r\")\n",
    "print(f.read())"
   ]
  },
  {
   "cell_type": "code",
   "execution_count": 21,
   "id": "9f553213-2dec-46e7-b5ab-5bad391367e1",
   "metadata": {},
   "outputs": [
    {
     "name": "stdout",
     "output_type": "stream",
     "text": [
      "First Line is:  6 9\n",
      "\n",
      "Second Line is:  0 1\n",
      "\n",
      "['6', '9']\n"
     ]
    }
   ],
   "source": [
    "f=open(\"graph.txt\",\"r\")\n",
    "#print(f.readline())\n",
    "\n",
    "line= f.readline()  #reads first line, waits for second line\n",
    "line2= f.readline()   #will read second line\n",
    "\n",
    "print(\"First Line is: \", line)\n",
    "print(\"Second Line is: \", line2)\n",
    "\n",
    "l=line.split()   #splits the line in separate elements\n",
    "print(l)"
   ]
  },
  {
   "cell_type": "code",
   "execution_count": 27,
   "id": "17911ee3-f25f-4f25-8d84-7b7e3ed05623",
   "metadata": {},
   "outputs": [
    {
     "name": "stdout",
     "output_type": "stream",
     "text": [
      "[0, 0, 0, 0, 0, 0]\n",
      "[0, 0, 0, 0, 0, 0]\n",
      "[0, 0, 0, 0, 0, 0]\n",
      "[0, 0, 0, 0, 0, 0]\n",
      "[0, 0, 0, 0, 0, 0]\n",
      "[0, 0, 0, 0, 0, 0]\n"
     ]
    }
   ],
   "source": [
    "def createMatrix(n):\n",
    "    m=[]\n",
    "    for i in range (n):\n",
    "        c=[]\n",
    "        for j in range(n):\n",
    "            c.append(0)\n",
    "        m.append(c)\n",
    "    return m\n",
    "\n",
    "def printMatrix(m):\n",
    "    for i in range(len(m)):\n",
    "        print(m[i])\n",
    "\n",
    "f=open(\"graph.txt\")\n",
    "\n",
    "line= f.readline()\n",
    "l=line.split()\n",
    "\n",
    "n=int(l[0])\n",
    "m=int(l[1])\n",
    "\n",
    "adj_matrix = createMatrix(n)\n",
    "printMatrix(adj_matrix)\n",
    "\n",
    "print(\" \")\n",
    "\n",
    "for i in range(m):\n",
    "    line=f.readline()\n",
    "    u=int(line.split()[0])\n",
    "    v=int(line.split()[1])\n",
    "    adj_matrix[u][v]=1\n",
    "    \n",
    "printMatrix(adj_matrix)\n",
    "\n"
   ]
  },
  {
   "cell_type": "code",
   "execution_count": 64,
   "id": "39be7822-e39e-47a2-bc9d-06e6e4828a67",
   "metadata": {},
   "outputs": [
    {
     "name": "stdout",
     "output_type": "stream",
     "text": [
      "[0, 0, 0, 0, 0, 0]\n",
      "[0, 0, 0, 0, 0, 0]\n",
      "[0, 0, 0, 0, 0, 0]\n",
      "[0, 0, 0, 0, 0, 0]\n",
      "[0, 0, 0, 0, 0, 0]\n",
      "[0, 0, 0, 0, 0, 0]\n",
      " \n",
      "[0, 1, 1, 0, 1, 0]\n",
      "[1, 0, 1, 1, 1, 0]\n",
      "[1, 1, 0, 1, 0, 0]\n",
      "[0, 1, 1, 0, 1, 0]\n",
      "[1, 1, 0, 1, 0, 1]\n",
      "[0, 0, 0, 0, 1, 0]\n"
     ]
    }
   ],
   "source": [
    "def createMatrix(n):\n",
    "    m=[]\n",
    "    for i in range (n):\n",
    "        c=[]\n",
    "        for j in range(n):\n",
    "            c.append(0)\n",
    "        m.append(c)\n",
    "    return m\n",
    "\n",
    "def printMatrix(m):\n",
    "    for i in range(len(m)):\n",
    "        print(m[i])\n",
    "\n",
    "f=open(\"graph.txt\",\"r\")\n",
    "\n",
    "line= f.readline()\n",
    "l=line.split()\n",
    "\n",
    "n=int(l[0])\n",
    "m=int(l[1])\n",
    "\n",
    "adj_matrix = createMatrix(n)\n",
    "printMatrix(adj_matrix)\n",
    "\n",
    "print(\" \")\n",
    "\n",
    "for i in range(m):\n",
    "    line=f.readline()\n",
    "    u=int(line.split()[0])\n",
    "    v=int(line.split()[1])\n",
    "    adj_matrix[u][v]=1\n",
    "    adj_matrix[v][u]=1\n",
    "\n",
    "printMatrix(adj_matrix)  #if matrix is undirected"
   ]
  },
  {
   "cell_type": "code",
   "execution_count": 9,
   "id": "ff8b2f33-b1e0-49a3-87a0-858742f230e1",
   "metadata": {},
   "outputs": [
    {
     "name": "stdout",
     "output_type": "stream",
     "text": [
      "[0, 0, 0, 0, 0, 0]\n",
      "[0, 0, 0, 0, 0, 0]\n",
      "[0, 0, 0, 0, 0, 0]\n",
      "[0, 0, 0, 0, 0, 0]\n",
      "[0, 0, 0, 0, 0, 0]\n",
      "[0, 0, 0, 0, 0, 0]\n",
      " \n",
      "[0, 4, 3, 0, 0, 0]\n",
      "[0, 0, 5, 2, 0, 0]\n",
      "[0, 0, 0, 7, 0, 0]\n",
      "[0, 0, 0, 0, 2, 0]\n",
      "[4, 4, 0, 0, 0, 6]\n",
      "[0, 0, 0, 0, 0, 0]\n"
     ]
    }
   ],
   "source": [
    "def createMatrix(n):\n",
    "    m=[]\n",
    "    for i in range (n):\n",
    "        c=[]\n",
    "        for j in range(n):\n",
    "            c.append(0)\n",
    "        m.append(c)\n",
    "    return m\n",
    "\n",
    "def printMatrix(m):\n",
    "    for i in range(len(m)):\n",
    "        print(m[i])\n",
    "\n",
    "f=open(\"graph2.txt\",\"r\")\n",
    "\n",
    "line= f.readline()\n",
    "l=line.split()\n",
    "\n",
    "n=int(l[0])\n",
    "m=int(l[1])\n",
    "\n",
    "adj_matrix = createMatrix(n)\n",
    "printMatrix(adj_matrix)\n",
    "\n",
    "print(\" \")\n",
    "\n",
    "for i in range(m):\n",
    "    line=f.readline()\n",
    "    u=int(line.split()[0])\n",
    "    v=int(line.split()[1])\n",
    "    w=int(line.split()[2])\n",
    "    \n",
    "    adj_matrix[u][v]=w\n",
    "    #adj_matrix[v][u]=w   #no need if directed\n",
    "\n",
    "printMatrix(adj_matrix)  #if matrix is directed and weighted"
   ]
  },
  {
   "cell_type": "code",
   "execution_count": 74,
   "id": "672500aa-02cd-4543-b07b-574ba1aa6e8d",
   "metadata": {},
   "outputs": [
    {
     "name": "stdout",
     "output_type": "stream",
     "text": [
      "[0, 0, 0, 0, 0, 0]\n",
      "[0, 0, 0, 0, 0, 0]\n",
      "[0, 0, 0, 0, 0, 0]\n",
      "[0, 0, 0, 0, 0, 0]\n",
      "[0, 0, 0, 0, 0, 0]\n",
      "[0, 0, 0, 0, 0, 0]\n",
      " \n",
      "[0, 4, 3, 0, 4, 0]\n",
      "[4, 0, 5, 2, 4, 0]\n",
      "[3, 5, 0, 7, 0, 0]\n",
      "[0, 2, 7, 0, 2, 0]\n",
      "[4, 4, 0, 2, 0, 6]\n",
      "[0, 0, 0, 0, 6, 0]\n"
     ]
    }
   ],
   "source": [
    "def createMatrix(n):\n",
    "    m=[]\n",
    "    for i in range (n):\n",
    "        c=[]\n",
    "        for j in range(n):\n",
    "            c.append(0)\n",
    "        m.append(c)\n",
    "    return m\n",
    "\n",
    "def printMatrix(m):\n",
    "    for i in range(len(m)):\n",
    "        print(m[i])\n",
    "\n",
    "f=open(\"graph2.txt\",\"r\")\n",
    "\n",
    "line= f.readline()\n",
    "l=line.split()\n",
    "\n",
    "n=int(l[0])\n",
    "m=int(l[1])\n",
    "\n",
    "adj_matrix = createMatrix(n)\n",
    "printMatrix(adj_matrix)\n",
    "\n",
    "print(\" \")\n",
    "\n",
    "for i in range(m):\n",
    "    line=f.readline()\n",
    "    u=int(line.split()[0])\n",
    "    v=int(line.split()[1])\n",
    "    w=int(line.split()[2])\n",
    "    \n",
    "    adj_matrix[u][v]=w\n",
    "    adj_matrix[v][u]=w   #no need if directed\n",
    "\n",
    "printMatrix(adj_matrix)  #if matrix is undirected and weighted"
   ]
  },
  {
   "cell_type": "code",
   "execution_count": 81,
   "id": "b09d7c75-6811-4db3-909e-c3e1da079a50",
   "metadata": {},
   "outputs": [
    {
     "name": "stdout",
     "output_type": "stream",
     "text": [
      "{1997: 'Pranto', 4945: 'Hasan'}\n"
     ]
    }
   ],
   "source": [
    "d={}\n",
    "d[1997]=\"Pranto\"\n",
    "d[4945]=\"Hasan\"\n",
    "print(d)"
   ]
  },
  {
   "cell_type": "code",
   "execution_count": 85,
   "id": "6a4f35f4-b287-4e9a-ad6c-e5790f0393d9",
   "metadata": {},
   "outputs": [
    {
     "name": "stdout",
     "output_type": "stream",
     "text": [
      "0: []\n",
      "1: []\n",
      "2: []\n",
      "3: []\n",
      "4: []\n"
     ]
    }
   ],
   "source": [
    "def createList(n):\n",
    "    g={}\n",
    "    for i in range(n):\n",
    "        g[i]=[]\n",
    "    return g\n",
    "\n",
    "def printList(g):\n",
    "    for i in range(len(g)):\n",
    "        print(i, end=\": \")\n",
    "        print(g[i])\n",
    "\n",
    "adj_list= createList(5)\n",
    "printList(adj_list)"
   ]
  },
  {
   "cell_type": "code",
   "execution_count": 89,
   "id": "867aaeaf-5339-46e1-9b63-fc2de2a6738c",
   "metadata": {},
   "outputs": [
    {
     "name": "stdout",
     "output_type": "stream",
     "text": [
      "0: []\n",
      "1: []\n",
      "2: []\n",
      "3: []\n",
      "4: []\n",
      "5: []\n",
      "[1, 2]\n",
      "[2, 3]\n",
      "[3]\n",
      "[4]\n",
      "[0, 1, 5]\n",
      "[]\n"
     ]
    }
   ],
   "source": [
    "def createList(n):\n",
    "    g={}\n",
    "    for i in range(n):\n",
    "        g[i]=[]\n",
    "    return g\n",
    "\n",
    "def printList(g):\n",
    "    for i in range(len(g)):\n",
    "        print(i, end=\": \")\n",
    "        print(g[i])\n",
    "\n",
    "f=open(\"graph.txt\", \"r\")\n",
    "\n",
    "line= f.readline()\n",
    "l=line.split()\n",
    "\n",
    "n=int(l[0])\n",
    "m=int(l[1])\n",
    "\n",
    "adj_list=createList(n)\n",
    "printList(adj_list)\n",
    "\n",
    "for i in range(m):\n",
    "    line=f.readline()\n",
    "    u=int(line.split()[0])\n",
    "    v=int(line.split()[1])\n",
    "    \n",
    "    adj_list[u].append(v)\n",
    "    #adj_list[v].append(u)\n",
    "\n",
    "printMatrix(adj_list)"
   ]
  },
  {
   "cell_type": "code",
   "execution_count": 7,
   "id": "7f693867-d5bb-4c78-8138-57e035fed714",
   "metadata": {},
   "outputs": [
    {
     "name": "stdout",
     "output_type": "stream",
     "text": [
      "0: []\n",
      "1: []\n",
      "2: []\n",
      "3: []\n",
      "4: []\n",
      "5: []\n",
      "\n",
      "0: [(1, 4), (2, 3)]\n",
      "1: [(2, 5), (3, 2)]\n",
      "2: [(3, 7)]\n",
      "3: [(4, 2)]\n",
      "4: [(0, 4), (1, 4), (5, 6)]\n",
      "5: []\n"
     ]
    }
   ],
   "source": [
    "def createList(n):\n",
    "    g={}\n",
    "    for i in range(n):\n",
    "        g[i]=[]\n",
    "    return g\n",
    "\n",
    "def printList(g):\n",
    "    for i in range(len(g)):\n",
    "        print(i, end=\": \")\n",
    "        print(g[i])\n",
    "\n",
    "f=open(\"graph2.txt\", \"r\")\n",
    "\n",
    "line= f.readline()\n",
    "l=line.split()\n",
    "\n",
    "n=int(l[0])\n",
    "m=int(l[1])\n",
    "\n",
    "adj_list=createList(n)\n",
    "printList(adj_list)\n",
    "print()\n",
    "\n",
    "for i in range(m):\n",
    "    line=f.readline()\n",
    "    u=int(line.split()[0])\n",
    "    v=int(line.split()[1])\n",
    "    w=int(line.split()[2])\n",
    "    \n",
    "    adj_list[u].append((v,w))      #using tuple (v,w)\n",
    "    #adj_list[v].append(u)\n",
    "\n",
    "printList(adj_list)"
   ]
  },
  {
   "cell_type": "code",
   "execution_count": null,
   "id": "ee3f8336-801c-4647-aad1-4910daec14f6",
   "metadata": {},
   "outputs": [],
   "source": []
  }
 ],
 "metadata": {
  "kernelspec": {
   "display_name": "Python 3 (ipykernel)",
   "language": "python",
   "name": "python3"
  },
  "language_info": {
   "codemirror_mode": {
    "name": "ipython",
    "version": 3
   },
   "file_extension": ".py",
   "mimetype": "text/x-python",
   "name": "python",
   "nbconvert_exporter": "python",
   "pygments_lexer": "ipython3",
   "version": "3.12.7"
  }
 },
 "nbformat": 4,
 "nbformat_minor": 5
}
