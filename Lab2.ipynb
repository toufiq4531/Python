{
 "cells": [
  {
   "cell_type": "code",
   "execution_count": 2,
   "id": "1ce0fb39-0d18-4f37-b788-5a947400caab",
   "metadata": {},
   "outputs": [
    {
     "name": "stdout",
     "output_type": "stream",
     "text": [
      "Welcome to ululu Lab\n"
     ]
    }
   ],
   "source": [
    "print(\"Welcome to ululu Lab\")"
   ]
  },
  {
   "cell_type": "code",
   "execution_count": 4,
   "id": "0d41a1e1-5a76-422c-b7da-366af26368b2",
   "metadata": {},
   "outputs": [
    {
     "name": "stdout",
     "output_type": "stream",
     "text": [
      "you are a voter\n"
     ]
    }
   ],
   "source": [
    "age=18\n",
    "if age>=18:\n",
    "    print(\"you are a voter\")\n",
    "else:\n",
    "    print(\"you are not a voter\")"
   ]
  },
  {
   "cell_type": "code",
   "execution_count": 6,
   "id": "bdbfcc89-acc6-4cf2-8d26-db1612c43baf",
   "metadata": {},
   "outputs": [
    {
     "name": "stdin",
     "output_type": "stream",
     "text": [
      "enter your marks:  90\n"
     ]
    },
    {
     "name": "stdout",
     "output_type": "stream",
     "text": [
      "you got A+\n"
     ]
    }
   ],
   "source": [
    "marks=int(input(\"enter your marks: \"))\n",
    "if marks>=90 and marks<=100:\n",
    "    print(\"you got A+\")\n",
    "elif marks>=85 and marks<90:\n",
    "    print(\"you got A\")\n",
    "else:\n",
    "    print(\"you failed\")"
   ]
  },
  {
   "cell_type": "code",
   "execution_count": 8,
   "id": "4caf360b-8976-4b62-b6e9-a5a2f801d114",
   "metadata": {},
   "outputs": [
    {
     "name": "stdin",
     "output_type": "stream",
     "text": [
      "Please Enter a number:  45\n",
      "Please Enter a number:  23\n"
     ]
    },
    {
     "name": "stdout",
     "output_type": "stream",
     "text": [
      "4523\n"
     ]
    }
   ],
   "source": [
    "a = input(\"Please Enter a number: \")\n",
    "b = input(\"Please Enter a number: \")\n",
    "result=a+b\n",
    "print(result)"
   ]
  },
  {
   "cell_type": "code",
   "execution_count": 10,
   "id": "2ae3dac4-47bf-45d2-9988-1dc09b206bdb",
   "metadata": {},
   "outputs": [
    {
     "name": "stdout",
     "output_type": "stream",
     "text": [
      "68\n"
     ]
    }
   ],
   "source": [
    "a=int(a)\n",
    "b=int(b)\n",
    "result=a+b\n",
    "print(result)"
   ]
  },
  {
   "cell_type": "code",
   "execution_count": 12,
   "id": "93de6300-7e44-4b12-a348-dbc4c4e28069",
   "metadata": {},
   "outputs": [
    {
     "name": "stdout",
     "output_type": "stream",
     "text": [
      "0 1 2 3 4 5 6 7 8 9 "
     ]
    }
   ],
   "source": [
    "for i in range(10):\n",
    "    print(i, end=\" \")"
   ]
  },
  {
   "cell_type": "code",
   "execution_count": 14,
   "id": "0dd2bb8c-1e9c-4152-befb-025d5f635c42",
   "metadata": {},
   "outputs": [
    {
     "name": "stdout",
     "output_type": "stream",
     "text": [
      "15 16 17 18 19 "
     ]
    }
   ],
   "source": [
    "for i in range(15, 20):\n",
    "    print(i, end=\" \")"
   ]
  },
  {
   "cell_type": "code",
   "execution_count": 16,
   "id": "94a57003-4a8d-40aa-9948-55d56ed84765",
   "metadata": {},
   "outputs": [
    {
     "name": "stdout",
     "output_type": "stream",
     "text": [
      "10 12 14 16 18 "
     ]
    }
   ],
   "source": [
    "for i in range(10, 20, 2):\n",
    "    print(i, end=\" \")"
   ]
  },
  {
   "cell_type": "code",
   "execution_count": 18,
   "id": "2e58684f-38c9-428d-97cf-3f03ea819705",
   "metadata": {},
   "outputs": [
    {
     "name": "stdout",
     "output_type": "stream",
     "text": [
      "1 3 5 7 9 "
     ]
    }
   ],
   "source": [
    "for i in range(1, 11):\n",
    "    if i%2==0:\n",
    "      continue\n",
    "    print(i, end=\" \")"
   ]
  },
  {
   "cell_type": "code",
   "execution_count": 20,
   "id": "190cf04e-2d46-411b-aa59-814a170b13bb",
   "metadata": {},
   "outputs": [
    {
     "name": "stdout",
     "output_type": "stream",
     "text": [
      "1 2 3 4 5\n"
     ]
    }
   ],
   "source": [
    "for i in range(1, 11):\n",
    "    if i>=5:\n",
    "        print(i)\n",
    "        break\n",
    "    print(i, end=\" \")"
   ]
  },
  {
   "cell_type": "code",
   "execution_count": 22,
   "id": "c91d5be4-cea0-4ba1-b837-a4022e508d7d",
   "metadata": {},
   "outputs": [
    {
     "name": "stdout",
     "output_type": "stream",
     "text": [
      "0 1 2 3 4 5 6 7 8 9 "
     ]
    }
   ],
   "source": [
    "i=0\n",
    "while i<10:\n",
    "    print(i, end=\" \")\n",
    "    i+=1"
   ]
  },
  {
   "cell_type": "code",
   "execution_count": 24,
   "id": "7c8eeb7d-fdf9-4feb-856b-e5068da9660f",
   "metadata": {},
   "outputs": [
    {
     "name": "stdout",
     "output_type": "stream",
     "text": [
      "[10, 20, 30, 40, 50, 60]\n"
     ]
    }
   ],
   "source": [
    "#ADT\n",
    "list=[10,20,30,40,50]\n",
    "list.append(60)\n",
    "print(list)"
   ]
  },
  {
   "cell_type": "code",
   "execution_count": 26,
   "id": "3a090c9c-13cf-4dae-8609-f5d75e0183fd",
   "metadata": {},
   "outputs": [
    {
     "name": "stdout",
     "output_type": "stream",
     "text": [
      "3\n"
     ]
    }
   ],
   "source": [
    "list1=[1,2,3,4,5,6,4,5,3,2,1,2,3,4,5,6]\n",
    "f=list1.count(2)\n",
    "print(f)"
   ]
  },
  {
   "cell_type": "code",
   "execution_count": 28,
   "id": "6e046550-7941-4104-bbc3-731d741d2f4e",
   "metadata": {},
   "outputs": [
    {
     "name": "stdout",
     "output_type": "stream",
     "text": [
      "[6, 5, 4, 3, 2, 1, 2, 3, 5, 4, 6, 5, 4, 3, 2, 1]\n"
     ]
    }
   ],
   "source": [
    "list1.reverse()\n",
    "print(list1)"
   ]
  },
  {
   "cell_type": "code",
   "execution_count": 30,
   "id": "0c7bf818-9a1f-4019-8030-846f6dc2bde0",
   "metadata": {},
   "outputs": [
    {
     "name": "stdout",
     "output_type": "stream",
     "text": [
      "[1, 1, 2, 2, 2, 3, 3, 3, 4, 4, 4, 5, 5, 5, 6, 6]\n"
     ]
    }
   ],
   "source": [
    "list1.sort()\n",
    "print(list1)"
   ]
  },
  {
   "cell_type": "code",
   "execution_count": 32,
   "id": "4c2b1a76-a8f6-4af3-a538-45ec5da5b92b",
   "metadata": {},
   "outputs": [
    {
     "name": "stdout",
     "output_type": "stream",
     "text": [
      "16\n"
     ]
    }
   ],
   "source": [
    "list1=[1,2,3,4,5,6,4,5,3,2,1,2,3,4,5,6]\n",
    "print(len(list1))"
   ]
  },
  {
   "cell_type": "code",
   "execution_count": 34,
   "id": "96a76e62-7d6c-4c05-800a-c761b721988e",
   "metadata": {},
   "outputs": [
    {
     "name": "stdout",
     "output_type": "stream",
     "text": [
      "1 2 3 4 5 6 4 5 3 2 1 2 3 4 5 6 "
     ]
    }
   ],
   "source": [
    "for i in range(len(list1)):\n",
    "    print(list1[i], end=\" \")"
   ]
  },
  {
   "cell_type": "code",
   "execution_count": 36,
   "id": "db30a741-1efb-4279-88b8-b1d3bfe0f92d",
   "metadata": {},
   "outputs": [
    {
     "name": "stdout",
     "output_type": "stream",
     "text": [
      "[7, 2, 8, 4, 2, 9, 7]\n"
     ]
    }
   ],
   "source": [
    "list1=[3,6,7,2,8,4,2,9,7]\n",
    "print(list1[2:])      #include 2nd index then print"
   ]
  },
  {
   "cell_type": "code",
   "execution_count": 38,
   "id": "4b181968-35ba-4571-9999-f5c0892ac466",
   "metadata": {},
   "outputs": [
    {
     "name": "stdout",
     "output_type": "stream",
     "text": [
      "[7, 2, 8, 4]\n"
     ]
    }
   ],
   "source": [
    "list1=[3,6,7,2,8,4,2,9,7]\n",
    "print(list1[2:6])      #include 2nd and exclude 6th index then print"
   ]
  },
  {
   "cell_type": "code",
   "execution_count": 40,
   "id": "1751338b-9394-46fe-927d-01821402b223",
   "metadata": {},
   "outputs": [
    {
     "name": "stdout",
     "output_type": "stream",
     "text": [
      "[3, 6, 7, 2]\n"
     ]
    }
   ],
   "source": [
    "list1=[3,6,7,2,8,4,2,9,7]\n",
    "print(list1[:4])      #exclude 4th index then print"
   ]
  },
  {
   "cell_type": "code",
   "execution_count": 42,
   "id": "2f2f7b72-d21a-4335-9d39-c36e8bc349cf",
   "metadata": {},
   "outputs": [
    {
     "name": "stdout",
     "output_type": "stream",
     "text": [
      "(1, 2, 3, 4, 5)\n"
     ]
    }
   ],
   "source": [
    "#touple\n",
    "tuple1=(1,2,3,4,5)\n",
    "print(tuple1)"
   ]
  },
  {
   "cell_type": "code",
   "execution_count": 44,
   "id": "ff595686-8e97-4967-a068-133846f82563",
   "metadata": {},
   "outputs": [
    {
     "name": "stdout",
     "output_type": "stream",
     "text": [
      "1 2 3 4 5 "
     ]
    }
   ],
   "source": [
    "tuple1=(1,2,3,4,5)\n",
    "for i in range(len(tuple1)):\n",
    "    print(tuple1[i], end=\" \")"
   ]
  },
  {
   "cell_type": "code",
   "execution_count": 46,
   "id": "44b689c6-c338-4fa0-b7da-c1625526605a",
   "metadata": {},
   "outputs": [
    {
     "name": "stdout",
     "output_type": "stream",
     "text": [
      "2\n",
      "5\n"
     ]
    }
   ],
   "source": [
    "m=[[10,20,30,40,50],[15,25,35,45,55]]\n",
    "\n",
    "print(len(m))      #prints row\n",
    "print(len(m[0]))    #prints column"
   ]
  },
  {
   "cell_type": "code",
   "execution_count": 48,
   "id": "dcfa9228-9684-4978-80d5-6a4affc12f8e",
   "metadata": {},
   "outputs": [
    {
     "name": "stdout",
     "output_type": "stream",
     "text": [
      "10 20 30 40 50 \n",
      "15 25 35 45 55 \n"
     ]
    }
   ],
   "source": [
    "for i in range(len(m)):\n",
    "    for j in range(len(m[0])):\n",
    "        print(m[i][j], end=\" \")\n",
    "    print()"
   ]
  },
  {
   "cell_type": "code",
   "execution_count": 50,
   "id": "f5c5ce6d-57ab-4dbc-a105-2f2c47f0c0b7",
   "metadata": {},
   "outputs": [
    {
     "name": "stdout",
     "output_type": "stream",
     "text": [
      "[0, 0, 0, 0, 0]\n",
      "[0, 0, 0, 0, 0]\n",
      "[0, 0, 0, 0, 0]\n",
      "[0, 0, 0, 0, 0]\n"
     ]
    }
   ],
   "source": [
    "row=4\n",
    "col=5\n",
    "m=[]\n",
    "\n",
    "for i in range(row):\n",
    "  c=[]\n",
    "  for j in range(col):\n",
    "    c.append(0)\n",
    "  m.append(c)\n",
    "\n",
    "for i in m:\n",
    "  print(i)"
   ]
  },
  {
   "cell_type": "code",
   "execution_count": 52,
   "id": "fe5383dd-ab97-4250-9eac-b3b45c92e9e0",
   "metadata": {},
   "outputs": [
    {
     "name": "stdout",
     "output_type": "stream",
     "text": [
      "[1, 0, 0, 0, 0]\n",
      "[0, 1, 0, 0, 0]\n",
      "[0, 0, 1, 0, 0]\n",
      "[0, 0, 0, 1, 0]\n"
     ]
    }
   ],
   "source": [
    "row=4\n",
    "col=5\n",
    "m=[]\n",
    "\n",
    "for i in range(row):\n",
    "  c=[]\n",
    "  for j in range(col):\n",
    "    if i==j:\n",
    "      c.append(1)\n",
    "    else:\n",
    "      c.append(0)\n",
    "  m.append(c)\n",
    "\n",
    "for i in m:\n",
    "  print(i)"
   ]
  },
  {
   "cell_type": "code",
   "execution_count": 56,
   "id": "09120f5a-7476-488e-84d4-940a15fc0570",
   "metadata": {},
   "outputs": [
    {
     "name": "stdout",
     "output_type": "stream",
     "text": [
      "924 284 290 351 29 111 171 540 979 832 710 397 773 675 357 901 698 529 943 37 344 342 510 159 488 451 402 196 106 495 570 637 692 948 371 266 588 210 658 769 598 565 879 450 985 129 391 893 189 256 599 270 819 642 622 761 348 760 32 66 777 968 319 771 774 635 348 631 326 996 356 312 216 216 250 993 579 296 822 987 257 770 130 394 377 838 33 344 578 105 615 197 733 679 541 334 2 148 398 834 "
     ]
    }
   ],
   "source": [
    "import random\n",
    "\n",
    "for i in range(100):\n",
    "    print(random.randint(1,1000), end=\" \")"
   ]
  },
  {
   "cell_type": "code",
   "execution_count": 69,
   "id": "98e0154d-4cd1-42a8-a052-ceb2cdc319b8",
   "metadata": {},
   "outputs": [
    {
     "name": "stdout",
     "output_type": "stream",
     "text": [
      "0.4494895450823658\n"
     ]
    }
   ],
   "source": [
    "print(random.random())  #shows a random value between 0-1\n",
    "#print(random.randint())"
   ]
  },
  {
   "cell_type": "code",
   "execution_count": 63,
   "id": "dc10c63e-77b2-4d00-b5ba-2c43c5d7b924",
   "metadata": {},
   "outputs": [
    {
     "name": "stdout",
     "output_type": "stream",
     "text": [
      "4 5 6 3 5 5 2 1 1 2 2 1 6 2 1 6 5 6 2 3 6 2 5 5 4 4 6 1 1 4 3 2 5 6 2 1 2 6 1 5 4 5 4 6 1 6 1 5 1 6 2 1 6 4 2 5 3 4 1 3 1 1 3 6 3 6 5 1 1 2 3 6 6 1 5 4 1 6 5 6 1 3 1 6 5 4 2 3 5 2 3 6 1 3 1 6 6 1 6 1 "
     ]
    }
   ],
   "source": [
    "dice=[1,2,3,4,5,6]\n",
    "for i in range(100):\n",
    "    throwDice= random.choice(dice)\n",
    "    print(throwDice, end=\" \")"
   ]
  },
  {
   "cell_type": "code",
   "execution_count": 79,
   "id": "8a8a656f-736b-42dc-9721-734308e07294",
   "metadata": {},
   "outputs": [
    {
     "name": "stdout",
     "output_type": "stream",
     "text": [
      "2 6 4 2 5 5 4 1 2 6 3 2 4 2 1 2 3 6 5 2 5 6 3 1 6 5 6 3 2 1 4 2 4 3 4 1 2 4 1 5 1 5 4 4 6 6 3 4 2 6 "
     ]
    }
   ],
   "source": [
    "dice=[1,2,3,4,5,6]\n",
    "list=[]\n",
    "for i in range(50):\n",
    "    throwDice= random.choice(dice)\n",
    "    list.append(throwDice)\n",
    "    \n",
    "for i in range(len(list)):\n",
    "    print(list[i], end=\" \")"
   ]
  },
  {
   "cell_type": "code",
   "execution_count": 85,
   "id": "df422768-b9f3-4af1-8da7-b58873f1c056",
   "metadata": {},
   "outputs": [
    {
     "name": "stdout",
     "output_type": "stream",
     "text": [
      "CACCTACATTGAGGTCTCATTCAACCTTGTGGAGAACTCGCGCTATCTTCCGGCCGGATGACATTTAAAAGTCCATACGTATTGCCGAACCGTCCGCTGA\n"
     ]
    }
   ],
   "source": [
    "import random\n",
    "codon=['A','C','G','T']\n",
    "dna=\"\"\n",
    "for i in range(100):\n",
    "    dna=dna+ random.choice(codon)\n",
    "print(dna)"
   ]
  },
  {
   "cell_type": "code",
   "execution_count": 91,
   "id": "6de719bc-3a73-4628-8c4f-d8fd39ea5198",
   "metadata": {},
   "outputs": [
    {
     "name": "stdout",
     "output_type": "stream",
     "text": [
      "['C', 'G', 'T', 'C', 'C', 'C', 'A', 'T', 'T', 'T', 'T', 'T', 'A', 'G', 'T', 'G', 'G', 'A', 'G', 'A', 'G', 'G', 'C', 'A', 'A', 'C', 'A', 'G', 'C', 'T', 'T', 'C', 'C', 'T', 'C', 'A', 'G', 'C', 'G', 'G', 'C', 'A', 'A', 'A', 'T', 'C', 'G', 'A', 'A', 'G', 'T', 'G', 'T', 'C', 'T', 'C', 'T', 'A', 'G', 'C', 'T', 'T', 'C', 'C', 'A', 'T', 'G', 'T', 'A', 'G', 'C', 'T', 'T', 'G', 'T', 'A', 'A', 'G', 'G', 'G', 'C', 'G', 'C', 'C', 'A', 'T', 'G', 'C', 'C', 'A', 'T', 'T', 'A', 'G', 'A', 'T', 'C', 'G', 'A', 'G']\n",
      "23\n"
     ]
    }
   ],
   "source": [
    "import random\n",
    "codon=['A','C','G','T']\n",
    "dna=[]\n",
    "for i in range(100):\n",
    "    dna.append(random.choice(codon))\n",
    "print(dna)\n",
    "\n",
    "print(dna.count('A'))"
   ]
  },
  {
   "cell_type": "code",
   "execution_count": 93,
   "id": "a8a4c54f-21fe-406c-b38f-3fccc17349e5",
   "metadata": {},
   "outputs": [
    {
     "name": "stdout",
     "output_type": "stream",
     "text": [
      "{'A': 22, 'C': 22, 'G': 29, 'T': 27}\n"
     ]
    }
   ],
   "source": [
    "import random\n",
    "codon=['A','C','G','T']\n",
    "dna=[]\n",
    "for i in range(100):\n",
    "    dna.append(random.choice(codon))\n",
    "\n",
    "dna_count={}   #dictionary key value pair\n",
    "for i in range(len(codon)):\n",
    "    dna_count[codon[i]] = dna.count(codon[i])\n",
    "    \n",
    "print(dna_count)"
   ]
  },
  {
   "cell_type": "code",
   "execution_count": 97,
   "id": "0206fae1-ece2-4ab8-b158-f7403f4f903c",
   "metadata": {},
   "outputs": [
    {
     "name": "stdout",
     "output_type": "stream",
     "text": [
      "{1: 17, 2: 10, 3: 16, 4: 29, 5: 10, 6: 18}\n"
     ]
    }
   ],
   "source": [
    "import random\n",
    "dice=[1,2,3,4,5,6]\n",
    "throwDice=[]\n",
    "\n",
    "for i in range(100):\n",
    "    throwDice.append(random.choice(dice))\n",
    "\n",
    "dice_count={}\n",
    "\n",
    "for i in range(len(dice)):\n",
    "    dice_count[dice[i]] = throwDice.count(dice[i])\n",
    "\n",
    "print(dice_count)"
   ]
  },
  {
   "cell_type": "code",
   "execution_count": 99,
   "id": "b00d87a8-fb3c-48ce-ae91-eb0c32b77908",
   "metadata": {},
   "outputs": [
    {
     "name": "stdout",
     "output_type": "stream",
     "text": [
      "21.0\n"
     ]
    }
   ],
   "source": [
    "#FUNCTION\n",
    "\n",
    "def f(x):\n",
    "    return x*2\n",
    "\n",
    "number=10.5\n",
    "print(f(number))"
   ]
  },
  {
   "cell_type": "code",
   "execution_count": 103,
   "id": "834b4cfb-3bcd-49b9-8388-cc2f5fd2639c",
   "metadata": {},
   "outputs": [
    {
     "name": "stdout",
     "output_type": "stream",
     "text": [
      "30\n",
      "200\n",
      "-10\n"
     ]
    }
   ],
   "source": [
    "def f1(x,y):\n",
    "    return x+y, x*y, x-y\n",
    "\n",
    "add,mul,sub=f1(10,20)\n",
    "\n",
    "print(add)\n",
    "print(mul)\n",
    "print(sub)"
   ]
  },
  {
   "cell_type": "code",
   "execution_count": 105,
   "id": "cfd12fd1-a1b7-4189-8b1f-dff8b8efbf3e",
   "metadata": {},
   "outputs": [
    {
     "name": "stdout",
     "output_type": "stream",
     "text": [
      "300\n",
      "20000\n",
      "-100\n"
     ]
    }
   ],
   "source": [
    "def f1(x=100,y=200):\n",
    "    return x+y, x*y, x-y\n",
    "\n",
    "add,mul,sub=f1()  #taken default value \n",
    "print(add)\n",
    "print(mul)\n",
    "print(sub)"
   ]
  },
  {
   "cell_type": "code",
   "execution_count": 107,
   "id": "3fabe8d9-6ece-466c-9508-49ded57f9108",
   "metadata": {},
   "outputs": [
    {
     "name": "stdout",
     "output_type": "stream",
     "text": [
      "210\n",
      "2000\n",
      "-190\n"
     ]
    }
   ],
   "source": [
    "def f1(x=100,y=200):\n",
    "    return x+y, x*y, x-y\n",
    "\n",
    "add,mul,sub=f1(10) #y will be taken as default value 200\n",
    "print(add)\n",
    "print(mul)\n",
    "print(sub)"
   ]
  },
  {
   "cell_type": "code",
   "execution_count": null,
   "id": "888b28ef-82c7-4ebb-abe5-d23d30a641e1",
   "metadata": {},
   "outputs": [],
   "source": []
  }
 ],
 "metadata": {
  "kernelspec": {
   "display_name": "Python 3 (ipykernel)",
   "language": "python",
   "name": "python3"
  },
  "language_info": {
   "codemirror_mode": {
    "name": "ipython",
    "version": 3
   },
   "file_extension": ".py",
   "mimetype": "text/x-python",
   "name": "python",
   "nbconvert_exporter": "python",
   "pygments_lexer": "ipython3",
   "version": "3.12.7"
  }
 },
 "nbformat": 4,
 "nbformat_minor": 5
}
