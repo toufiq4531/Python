{
 "cells": [
  {
   "cell_type": "code",
   "execution_count": null,
   "metadata": {
    "colab": {
     "base_uri": "https://localhost:8080/"
    },
    "executionInfo": {
     "elapsed": 603,
     "status": "ok",
     "timestamp": 1729477660497,
     "user": {
      "displayName": "Toufiqul Islam",
      "userId": "07360655744266439146"
     },
     "user_tz": -360
    },
    "id": "iWHylVPV5c8B",
    "outputId": "f16df231-54fe-40a1-f12a-666747bd7726"
   },
   "outputs": [
    {
     "name": "stdout",
     "output_type": "stream",
     "text": [
      "Helluuu\n"
     ]
    }
   ],
   "source": [
    "print(\"Helluuu\")"
   ]
  },
  {
   "cell_type": "code",
   "execution_count": null,
   "metadata": {
    "colab": {
     "base_uri": "https://localhost:8080/"
    },
    "executionInfo": {
     "elapsed": 410,
     "status": "ok",
     "timestamp": 1729477719318,
     "user": {
      "displayName": "Toufiqul Islam",
      "userId": "07360655744266439146"
     },
     "user_tz": -360
    },
    "id": "BAIMk7Lk5o8d",
    "outputId": "5620ef55-5fac-4a4c-ba5b-9f1740cf258f"
   },
   "outputs": [
    {
     "name": "stdout",
     "output_type": "stream",
     "text": [
      "10\n"
     ]
    }
   ],
   "source": [
    "a=10\n",
    "print(a)"
   ]
  },
  {
   "cell_type": "code",
   "execution_count": null,
   "metadata": {
    "colab": {
     "base_uri": "https://localhost:8080/"
    },
    "executionInfo": {
     "elapsed": 419,
     "status": "ok",
     "timestamp": 1729477832708,
     "user": {
      "displayName": "Toufiqul Islam",
      "userId": "07360655744266439146"
     },
     "user_tz": -360
    },
    "id": "s31eLucu5v1j",
    "outputId": "4ab68ad0-2781-4c79-f9e1-2f71c31da08c"
   },
   "outputs": [
    {
     "name": "stdout",
     "output_type": "stream",
     "text": [
      "<class 'float'>\n"
     ]
    }
   ],
   "source": [
    "b=10.9\n",
    "print(type(b))"
   ]
  },
  {
   "cell_type": "code",
   "execution_count": null,
   "metadata": {
    "colab": {
     "base_uri": "https://localhost:8080/"
    },
    "executionInfo": {
     "elapsed": 394,
     "status": "ok",
     "timestamp": 1729477861588,
     "user": {
      "displayName": "Toufiqul Islam",
      "userId": "07360655744266439146"
     },
     "user_tz": -360
    },
    "id": "N_h6Dvnp6WwR",
    "outputId": "1b130016-7ed4-48d7-d19b-4682940c6cd6"
   },
   "outputs": [
    {
     "data": {
      "text/plain": [
       "int"
      ]
     },
     "execution_count": 5,
     "metadata": {},
     "output_type": "execute_result"
    }
   ],
   "source": [
    "c= 69\n",
    "type(c)"
   ]
  },
  {
   "cell_type": "code",
   "execution_count": null,
   "metadata": {
    "colab": {
     "base_uri": "https://localhost:8080/"
    },
    "executionInfo": {
     "elapsed": 407,
     "status": "ok",
     "timestamp": 1729478027923,
     "user": {
      "displayName": "Toufiqul Islam",
      "userId": "07360655744266439146"
     },
     "user_tz": -360
    },
    "id": "pK2ReW9W6dxp",
    "outputId": "b3eeb307-52db-484a-abea-b16d36964eae"
   },
   "outputs": [
    {
     "name": "stdout",
     "output_type": "stream",
     "text": [
      "<class 'str'>\n"
     ]
    }
   ],
   "source": [
    "name ='i lobe you'\n",
    "print(type(name))"
   ]
  },
  {
   "cell_type": "code",
   "execution_count": null,
   "metadata": {
    "colab": {
     "base_uri": "https://localhost:8080/",
     "height": 35
    },
    "executionInfo": {
     "elapsed": 383,
     "status": "ok",
     "timestamp": 1729478071599,
     "user": {
      "displayName": "Toufiqul Islam",
      "userId": "07360655744266439146"
     },
     "user_tz": -360
    },
    "id": "uwbnglg_7GY1",
    "outputId": "6f27ae0b-147d-43d9-f2f7-d8b2cde114ca"
   },
   "outputs": [
    {
     "data": {
      "application/vnd.google.colaboratory.intrinsic+json": {
       "type": "string"
      },
      "text/plain": [
       "'e'"
      ]
     },
     "execution_count": 7,
     "metadata": {},
     "output_type": "execute_result"
    }
   ],
   "source": [
    "name[5]"
   ]
  },
  {
   "cell_type": "code",
   "execution_count": null,
   "metadata": {
    "colab": {
     "base_uri": "https://localhost:8080/",
     "height": 35
    },
    "executionInfo": {
     "elapsed": 389,
     "status": "ok",
     "timestamp": 1729478145924,
     "user": {
      "displayName": "Toufiqul Islam",
      "userId": "07360655744266439146"
     },
     "user_tz": -360
    },
    "id": "5G-aUCzB7RFQ",
    "outputId": "3f98f937-7cbb-4ecd-b920-01b1902d6c2e"
   },
   "outputs": [
    {
     "data": {
      "application/vnd.google.colaboratory.intrinsic+json": {
       "type": "string"
      },
      "text/plain": [
       "'i lob'"
      ]
     },
     "execution_count": 10,
     "metadata": {},
     "output_type": "execute_result"
    }
   ],
   "source": [
    "name[:5]  ##all characters before 5th"
   ]
  },
  {
   "cell_type": "code",
   "execution_count": null,
   "metadata": {
    "colab": {
     "base_uri": "https://localhost:8080/",
     "height": 35
    },
    "executionInfo": {
     "elapsed": 399,
     "status": "ok",
     "timestamp": 1729478690397,
     "user": {
      "displayName": "Toufiqul Islam",
      "userId": "07360655744266439146"
     },
     "user_tz": -360
    },
    "id": "AOTazrns7WW3",
    "outputId": "77269a8a-93da-44b5-a343-f63664d82913"
   },
   "outputs": [
    {
     "data": {
      "application/vnd.google.colaboratory.intrinsic+json": {
       "type": "string"
      },
      "text/plain": [
       "'ob'"
      ]
     },
     "execution_count": 17,
     "metadata": {},
     "output_type": "execute_result"
    }
   ],
   "source": [
    "name[3:5]  #3 included 5 excluded"
   ]
  },
  {
   "cell_type": "code",
   "execution_count": null,
   "metadata": {
    "colab": {
     "base_uri": "https://localhost:8080/",
     "height": 35
    },
    "executionInfo": {
     "elapsed": 385,
     "status": "ok",
     "timestamp": 1729478717819,
     "user": {
      "displayName": "Toufiqul Islam",
      "userId": "07360655744266439146"
     },
     "user_tz": -360
    },
    "id": "VTF_e3rl7cZg",
    "outputId": "d8a0dd95-cc91-497f-f3a8-426147da1c6a"
   },
   "outputs": [
    {
     "data": {
      "application/vnd.google.colaboratory.intrinsic+json": {
       "type": "string"
      },
      "text/plain": [
       "'lobe you'"
      ]
     },
     "execution_count": 18,
     "metadata": {},
     "output_type": "execute_result"
    }
   ],
   "source": [
    "name[2:]"
   ]
  },
  {
   "cell_type": "code",
   "execution_count": null,
   "metadata": {
    "colab": {
     "base_uri": "https://localhost:8080/"
    },
    "executionInfo": {
     "elapsed": 411,
     "status": "ok",
     "timestamp": 1729478379952,
     "user": {
      "displayName": "Toufiqul Islam",
      "userId": "07360655744266439146"
     },
     "user_tz": -360
    },
    "id": "o9pCXo3T8L5N",
    "outputId": "35cfe8e6-0021-4de9-aec8-645e3cf28546"
   },
   "outputs": [
    {
     "name": "stdout",
     "output_type": "stream",
     "text": [
      "0\n",
      "1\n",
      "2\n",
      "3\n",
      "4\n"
     ]
    }
   ],
   "source": [
    "for i in range(5):\n",
    "  print(i)"
   ]
  },
  {
   "cell_type": "code",
   "execution_count": null,
   "metadata": {
    "colab": {
     "base_uri": "https://localhost:8080/"
    },
    "executionInfo": {
     "elapsed": 508,
     "status": "ok",
     "timestamp": 1729478467629,
     "user": {
      "displayName": "Toufiqul Islam",
      "userId": "07360655744266439146"
     },
     "user_tz": -360
    },
    "id": "_uTpLoBr8cWu",
    "outputId": "350b4346-0fb6-4e9a-9dd0-983336379c62"
   },
   "outputs": [
    {
     "name": "stdout",
     "output_type": "stream",
     "text": [
      "0 1 2 3 4 "
     ]
    }
   ],
   "source": [
    "for i in range(5):\n",
    "  print(i, end=' ')"
   ]
  },
  {
   "cell_type": "code",
   "execution_count": null,
   "metadata": {
    "colab": {
     "base_uri": "https://localhost:8080/"
    },
    "executionInfo": {
     "elapsed": 405,
     "status": "ok",
     "timestamp": 1729478539729,
     "user": {
      "displayName": "Toufiqul Islam",
      "userId": "07360655744266439146"
     },
     "user_tz": -360
    },
    "id": "YkGCF7yq8xvZ",
    "outputId": "84201e9d-d2d1-411d-dbf2-47b4fda82abb"
   },
   "outputs": [
    {
     "name": "stdout",
     "output_type": "stream",
     "text": [
      "0 1 2 3 4 "
     ]
    }
   ],
   "source": [
    "for i in range(5):\n",
    "  print(i, end=' ')"
   ]
  },
  {
   "cell_type": "code",
   "execution_count": null,
   "metadata": {
    "colab": {
     "base_uri": "https://localhost:8080/"
    },
    "executionInfo": {
     "elapsed": 465,
     "status": "ok",
     "timestamp": 1729480949729,
     "user": {
      "displayName": "work mail",
      "userId": "12687429901176524507"
     },
     "user_tz": -360
    },
    "id": "tGY9Vp2S854y",
    "outputId": "abb9843d-19ae-4dbf-947b-368f687256d8"
   },
   "outputs": [
    {
     "name": "stdout",
     "output_type": "stream",
     "text": [
      "[5, 9, 3, 7, 8, 6, 4]\n",
      "[10, 5, 6.9, 'Pranto']\n"
     ]
    }
   ],
   "source": [
    "li=[5,9,3,7,8,6,4]\n",
    "li1 = [10,5,6.9,'Pranto']\n",
    "\n",
    "print(li)\n",
    "print(li1)"
   ]
  },
  {
   "cell_type": "code",
   "execution_count": null,
   "metadata": {
    "colab": {
     "base_uri": "https://localhost:8080/"
    },
    "executionInfo": {
     "elapsed": 450,
     "status": "ok",
     "timestamp": 1729480954366,
     "user": {
      "displayName": "work mail",
      "userId": "12687429901176524507"
     },
     "user_tz": -360
    },
    "id": "K6sWEnvj_Jxl",
    "outputId": "3b7751ac-015e-4b96-8e1a-fbcb6fd7c954"
   },
   "outputs": [
    {
     "name": "stdout",
     "output_type": "stream",
     "text": [
      "5\n",
      "9\n",
      "3\n",
      "7\n",
      "8\n",
      "6\n",
      "4\n"
     ]
    }
   ],
   "source": [
    "for i in range(len(li)):\n",
    "  print(li[i])"
   ]
  },
  {
   "cell_type": "code",
   "execution_count": null,
   "metadata": {
    "colab": {
     "base_uri": "https://localhost:8080/"
    },
    "executionInfo": {
     "elapsed": 366,
     "status": "ok",
     "timestamp": 1729479453107,
     "user": {
      "displayName": "Toufiqul Islam",
      "userId": "07360655744266439146"
     },
     "user_tz": -360
    },
    "id": "tpwtmYnL_e1n",
    "outputId": "ecf65eb1-c7d6-4e7e-e3fc-ca3ed7532cc5"
   },
   "outputs": [
    {
     "name": "stdout",
     "output_type": "stream",
     "text": [
      "10 5 6.9 Pranto "
     ]
    }
   ],
   "source": [
    "for i in range(len(li1)):\n",
    "  print(li1[i], end=' ')"
   ]
  },
  {
   "cell_type": "code",
   "execution_count": null,
   "metadata": {
    "colab": {
     "base_uri": "https://localhost:8080/"
    },
    "executionInfo": {
     "elapsed": 384,
     "status": "ok",
     "timestamp": 1729479558953,
     "user": {
      "displayName": "Toufiqul Islam",
      "userId": "07360655744266439146"
     },
     "user_tz": -360
    },
    "id": "7tsZtVo7AgvF",
    "outputId": "dc602d93-1bd2-4230-a7c5-f2abb2f3ece2"
   },
   "outputs": [
    {
     "name": "stdout",
     "output_type": "stream",
     "text": [
      "10 5 6.9 Pranto "
     ]
    }
   ],
   "source": [
    "for item in li1:\n",
    "  print(item, end=\" \")"
   ]
  },
  {
   "cell_type": "code",
   "execution_count": null,
   "metadata": {
    "colab": {
     "base_uri": "https://localhost:8080/"
    },
    "executionInfo": {
     "elapsed": 465,
     "status": "ok",
     "timestamp": 1729480974797,
     "user": {
      "displayName": "work mail",
      "userId": "12687429901176524507"
     },
     "user_tz": -360
    },
    "id": "-2OeIVF5A8NI",
    "outputId": "91b6855f-4621-456f-9e75-7e78b82bb455"
   },
   "outputs": [
    {
     "data": {
      "text/plain": [
       "['lalala', 5, 9, 3, 7, 8, 6, 4]"
      ]
     },
     "execution_count": 7,
     "metadata": {},
     "output_type": "execute_result"
    }
   ],
   "source": [
    "li.insert(0,'lalala')\n",
    "li"
   ]
  },
  {
   "cell_type": "code",
   "execution_count": null,
   "metadata": {
    "colab": {
     "base_uri": "https://localhost:8080/"
    },
    "executionInfo": {
     "elapsed": 462,
     "status": "ok",
     "timestamp": 1729481008384,
     "user": {
      "displayName": "work mail",
      "userId": "12687429901176524507"
     },
     "user_tz": -360
    },
    "id": "1K_SATjXF2T2",
    "outputId": "fe86261d-d602-4928-ed96-e8143124cacf"
   },
   "outputs": [
    {
     "data": {
      "text/plain": [
       "[5, 9, 3, 7, 8, 6, 4]"
      ]
     },
     "execution_count": 8,
     "metadata": {},
     "output_type": "execute_result"
    }
   ],
   "source": [
    "li.remove('lalala')\n",
    "li"
   ]
  },
  {
   "cell_type": "code",
   "execution_count": null,
   "metadata": {
    "colab": {
     "base_uri": "https://localhost:8080/"
    },
    "executionInfo": {
     "elapsed": 616,
     "status": "ok",
     "timestamp": 1729481969805,
     "user": {
      "displayName": "work mail",
      "userId": "12687429901176524507"
     },
     "user_tz": -360
    },
    "id": "_K_XI2aiGeBx",
    "outputId": "a4315c33-5c70-41f8-eb40-a487d8b33a0e"
   },
   "outputs": [
    {
     "name": "stdout",
     "output_type": "stream",
     "text": [
      "(10, 50, 40, 60, 3)\n"
     ]
    }
   ],
   "source": [
    "t = (10,50,40,60,3)  #touple is not changeable\n",
    "print(t)\n",
    "# t.remove(10) this is error"
   ]
  },
  {
   "cell_type": "code",
   "execution_count": null,
   "metadata": {
    "id": "vp2Bi03jI9UD"
   },
   "outputs": [],
   "source": [
    "alphabet={1:\"A\",\n",
    "          2:\"B\"\n",
    "\n",
    "          }"
   ]
  },
  {
   "cell_type": "code",
   "execution_count": null,
   "metadata": {
    "colab": {
     "base_uri": "https://localhost:8080/"
    },
    "executionInfo": {
     "elapsed": 471,
     "status": "ok",
     "timestamp": 1729482465855,
     "user": {
      "displayName": "work mail",
      "userId": "12687429901176524507"
     },
     "user_tz": -360
    },
    "id": "ygSdsSkkLS1o",
    "outputId": "85984f19-3619-4708-fe75-aa9d6161c755"
   },
   "outputs": [
    {
     "name": "stdout",
     "output_type": "stream",
     "text": [
      "[5, 1, 5, 9, 5, 3, 3, 1, 5, 2, 8, 7, 1, 4, 2, 3, 4, 9, 9, 9, 7, 7, 9, 9, 4, 4, 4, 4, 9, 7, 6, 3, 2, 3, 3, 1, 4, 6, 3, 8, 8, 9, 9, 5, 2, 8, 1, 2, 4, 1]\n"
     ]
    }
   ],
   "source": [
    "import random\n",
    "li=[]\n",
    "for i in range(50):\n",
    "  li.append(random.randint(1,9))\n",
    "print(li)"
   ]
  },
  {
   "cell_type": "code",
   "execution_count": null,
   "metadata": {
    "colab": {
     "base_uri": "https://localhost:8080/"
    },
    "executionInfo": {
     "elapsed": 472,
     "status": "ok",
     "timestamp": 1729482597998,
     "user": {
      "displayName": "work mail",
      "userId": "12687429901176524507"
     },
     "user_tz": -360
    },
    "id": "igAzLAAzLgTO",
    "outputId": "e5b8d18e-4b6a-44d3-d6d5-b84a1626731d"
   },
   "outputs": [
    {
     "data": {
      "text/plain": [
       "{1: 6, 2: 5, 3: 7, 4: 8, 5: 5, 6: 2}"
      ]
     },
     "execution_count": 16,
     "metadata": {},
     "output_type": "execute_result"
    }
   ],
   "source": [
    "dice={}\n",
    "for i in range(1,7):\n",
    "  dice[i]=li.count(i)\n",
    "\n",
    "dice"
   ]
  },
  {
   "cell_type": "code",
   "execution_count": null,
   "metadata": {
    "colab": {
     "base_uri": "https://localhost:8080/"
    },
    "executionInfo": {
     "elapsed": 501,
     "status": "ok",
     "timestamp": 1729524401925,
     "user": {
      "displayName": "work mail",
      "userId": "12687429901176524507"
     },
     "user_tz": -360
    },
    "id": "1b4ek_SiMiAT",
    "outputId": "5586a24b-1f11-49cd-c85a-94f061cbac84"
   },
   "outputs": [
    {
     "name": "stdout",
     "output_type": "stream",
     "text": [
      " A A T T A T R O O T A N T R P A N T N P P P O T P A T A A A P A N N O R R A O T R P A P N T N A N R N N N O A R N A A O N P O P O O A O N T O P R A P R T N R O\n"
     ]
    }
   ],
   "source": [
    "import random\n",
    "name=['P','R','A','N','T','O']\n",
    "pranto=''\n",
    "for i in range(80):\n",
    "  pranto=pranto+\" \"+random.choice(name)\n",
    "\n",
    "print(pranto)"
   ]
  },
  {
   "cell_type": "code",
   "execution_count": null,
   "metadata": {
    "colab": {
     "base_uri": "https://localhost:8080/"
    },
    "executionInfo": {
     "elapsed": 411,
     "status": "ok",
     "timestamp": 1729528587875,
     "user": {
      "displayName": "work mail",
      "userId": "12687429901176524507"
     },
     "user_tz": -360
    },
    "id": "ne58cPx1sRNK",
    "outputId": "fadc95ee-07ec-45d8-e24a-23c00f9940f6"
   },
   "outputs": [
    {
     "name": "stdout",
     "output_type": "stream",
     "text": [
      "Cool Dude\n"
     ]
    }
   ],
   "source": [
    "print(\"Cool Dude\")\n"
   ]
  },
  {
   "cell_type": "code",
   "execution_count": null,
   "metadata": {
    "id": "cdL1A8lO755E"
   },
   "outputs": [],
   "source": []
  }
 ],
 "metadata": {
  "colab": {
   "provenance": []
  },
  "kernelspec": {
   "display_name": "Python 3 (ipykernel)",
   "language": "python",
   "name": "python3"
  },
  "language_info": {
   "codemirror_mode": {
    "name": "ipython",
    "version": 3
   },
   "file_extension": ".py",
   "mimetype": "text/x-python",
   "name": "python",
   "nbconvert_exporter": "python",
   "pygments_lexer": "ipython3",
   "version": "3.12.7"
  }
 },
 "nbformat": 4,
 "nbformat_minor": 4
}
